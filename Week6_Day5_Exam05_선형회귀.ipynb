{
 "cells": [
  {
   "cell_type": "code",
   "execution_count": 1,
   "metadata": {},
   "outputs": [],
   "source": [
    "import matplotlib.pylab as plt\n",
    "from sklearn import linear_model"
   ]
  },
  {
   "cell_type": "code",
   "execution_count": 9,
   "metadata": {},
   "outputs": [
    {
     "name": "stdout",
     "output_type": "stream",
     "text": [
      "[1.25]\n",
      "2.7500000000000004\n",
      "0.8928571428571429\n"
     ]
    },
    {
     "data": {
      "image/png": "[encoded data removed]",
      "text/plain": [
       "<Figure size 432x288 with 1 Axes>"
      ]
     },
     "metadata": {
      "needs_background": "light"
     },
     "output_type": "display_data"
    }
   ],
   "source": [
    "#선형 회귀 모델을 생성\n",
    "reg = linear_model.LinearRegression()\n",
    "\n",
    "#데이터는 파이썬의 리스트로 만들어도 되고, 넘파이의 배열로 만들어도 됨\n",
    "X = [[0], [1], [2]] #2차원으로 만들어야 함\n",
    "y = [3, 3.5, 5.5] # y = x +3  \n",
    "\n",
    "#비슷한 값으로 학습을 시키고 다른 값을 넣었을때 어떤 결과가 나올것인가를 보기 위함\n",
    "\n",
    "#학습을 시킨다.\n",
    "reg.fit(X, y)\n",
    "\n",
    "#직선의 기울기\n",
    "print(reg.coef_)\n",
    "\n",
    "#직선의 y 절편\n",
    "print(reg.intercept_)\n",
    "\n",
    "# score\n",
    "print(reg.score(X, y))   #회귀분석은 직선을 찾는 분석\n",
    "\n",
    "#학습 데이터와 y 값을 산포도로 그린다.\n",
    "plt.scatter(X, y, color='black')\n",
    "\n",
    "#학습 데이터를 입력으로 하여 예측값을 계산한다.\n",
    "y_pred = reg.predict(X)\n",
    "\n",
    "#학습 데이터와 예측값으로 선그래프로 그린다.\n",
    "#계산된 기울기와 y절편을 가지는 직선이 그려진다.\n",
    "plt.plot(X, y_pred, color='blue', linewidth=3)\n",
    "plt.show()"
   ]
  },
  {
   "cell_type": "code",
   "execution_count": null,
   "metadata": {},
   "outputs": [],
   "source": []
  }
 ],
 "metadata": {
  "kernelspec": {
   "display_name": "Python 3",
   "language": "python",
   "name": "python3"
  },
  "language_info": {
   "codemirror_mode": {
    "name": "ipython",
    "version": 3
   },
   "file_extension": ".py",
   "mimetype": "text/x-python",
   "name": "python",
   "nbconvert_exporter": "python",
   "pygments_lexer": "ipython3",
   "version": "3.7.6"
  }
 },
 "nbformat": 4,
 "nbformat_minor": 4
}
