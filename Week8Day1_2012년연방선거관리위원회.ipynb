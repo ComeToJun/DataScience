{
 "cells": [
  {
   "cell_type": "code",
   "execution_count": 13,
   "metadata": {},
   "outputs": [],
   "source": [
    "# 정치활동 후원금에 대한 데이터\n",
    "# 기부자의 이름, 직업, 고용형태, 주소, 기부금액이 포함되어 있다.\n",
    "# 그 중 2012년 미국 대통령 선거 데이터"
   ]
  },
  {
   "cell_type": "code",
   "execution_count": 14,
   "metadata": {},
   "outputs": [],
   "source": [
    "import pandas as pd\n",
    "\n",
    "fec = pd.read_csv('C:/Users/user/Desktop/pydata-book-2nd-edition/pydata-book-2nd-edition/datasets/fec/P00000001-ALL.csv')"
   ]
  },
  {
   "cell_type": "code",
   "execution_count": 15,
   "metadata": {},
   "outputs": [
    {
     "name": "stdout",
     "output_type": "stream",
     "text": [
      "<class 'pandas.core.frame.DataFrame'>\n",
      "RangeIndex: 1001731 entries, 0 to 1001730\n",
      "Data columns (total 16 columns):\n",
      " #   Column             Non-Null Count    Dtype  \n",
      "---  ------             --------------    -----  \n",
      " 0   cmte_id            1001731 non-null  object \n",
      " 1   cand_id            1001731 non-null  object \n",
      " 2   cand_nm            1001731 non-null  object \n",
      " 3   contbr_nm          1001731 non-null  object \n",
      " 4   contbr_city        1001712 non-null  object \n",
      " 5   contbr_st          1001727 non-null  object \n",
      " 6   contbr_zip         1001620 non-null  object \n",
      " 7   contbr_employer    988002 non-null   object \n",
      " 8   contbr_occupation  993301 non-null   object \n",
      " 9   contb_receipt_amt  1001731 non-null  float64\n",
      " 10  contb_receipt_dt   1001731 non-null  object \n",
      " 11  receipt_desc       14166 non-null    object \n",
      " 12  memo_cd            92482 non-null    object \n",
      " 13  memo_text          97770 non-null    object \n",
      " 14  form_tp            1001731 non-null  object \n",
      " 15  file_num           1001731 non-null  int64  \n",
      "dtypes: float64(1), int64(1), object(14)\n",
      "memory usage: 122.3+ MB\n",
      "RangeIndex(start=0, stop=1001731, step=1)\n",
      "Index(['cmte_id', 'cand_id', 'cand_nm', 'contbr_nm', 'contbr_city',\n",
      "       'contbr_st', 'contbr_zip', 'contbr_employer', 'contbr_occupation',\n",
      "       'contb_receipt_amt', 'contb_receipt_dt', 'receipt_desc', 'memo_cd',\n",
      "       'memo_text', 'form_tp', 'file_num'],\n",
      "      dtype='object')\n"
     ]
    }
   ],
   "source": [
    "fec.info()\n",
    "print(fec.index)\n",
    "print(fec.columns)"
   ]
  },
  {
   "cell_type": "code",
   "execution_count": 16,
   "metadata": {},
   "outputs": [
    {
     "data": {
      "text/plain": [
       "cmte_id                             C00431445\n",
       "cand_id                             P80003338\n",
       "cand_nm                         Obama, Barack\n",
       "contbr_nm                         ELLMAN, IRA\n",
       "contbr_city                             TEMPE\n",
       "contbr_st                                  AZ\n",
       "contbr_zip                          852816719\n",
       "contbr_employer      ARIZONA STATE UNIVERSITY\n",
       "contbr_occupation                   PROFESSOR\n",
       "contb_receipt_amt                          50\n",
       "contb_receipt_dt                    01-DEC-11\n",
       "receipt_desc                              NaN\n",
       "memo_cd                                   NaN\n",
       "memo_text                                 NaN\n",
       "form_tp                                 SA17A\n",
       "file_num                               772372\n",
       "Name: 123456, dtype: object"
      ]
     },
     "execution_count": 16,
     "metadata": {},
     "output_type": "execute_result"
    }
   ],
   "source": [
    "# DataFrame 에는 다음과 같은 형태로 저장되어 있다.\n",
    "\n",
    "fec.iloc[123456]\n",
    "\n",
    "# 하나의 행을 기준으로 정보를 전부 보여준다."
   ]
  },
  {
   "cell_type": "code",
   "execution_count": 17,
   "metadata": {},
   "outputs": [],
   "source": [
    "# 기부자와 선거 자금에서 찾을 수 있는 패턴에 대한 통계를 추출하기 위해\n",
    "# 이 데이터를 적당한 크기로 쪼개서 나누는 다양한 방법을 떠올릴 수 있다.\n",
    "\n",
    "# 정당 가입 여부에 대한 데이터가 없으므로, 추가해주는 것이 유용한다.\n",
    "# unique 메서드를 이용해서 모든 정당의 후부 목록을 얻자"
   ]
  },
  {
   "cell_type": "code",
   "execution_count": 18,
   "metadata": {},
   "outputs": [],
   "source": [
    "unique_cands = fec.cand_nm.unique()\n",
    "\n",
    "# 유일값 찾기"
   ]
  },
  {
   "cell_type": "code",
   "execution_count": 19,
   "metadata": {},
   "outputs": [
    {
     "data": {
      "text/plain": [
       "array(['Bachmann, Michelle', 'Romney, Mitt', 'Obama, Barack',\n",
       "       \"Roemer, Charles E. 'Buddy' III\", 'Pawlenty, Timothy',\n",
       "       'Johnson, Gary Earl', 'Paul, Ron', 'Santorum, Rick',\n",
       "       'Cain, Herman', 'Gingrich, Newt', 'McCotter, Thaddeus G',\n",
       "       'Huntsman, Jon', 'Perry, Rick'], dtype=object)"
      ]
     },
     "execution_count": 19,
     "metadata": {},
     "output_type": "execute_result"
    }
   ],
   "source": [
    "unique_cands\n",
    "\n",
    "# 겹치는 후보들의 이름을 unique 함수로 하나씩만 나오게 해서 전체 후보를 알 수 있게 해준다."
   ]
  },
  {
   "cell_type": "code",
   "execution_count": 20,
   "metadata": {},
   "outputs": [
    {
     "data": {
      "text/plain": [
       "'Obama, Barack'"
      ]
     },
     "execution_count": 20,
     "metadata": {},
     "output_type": "execute_result"
    }
   ],
   "source": [
    "unique_cands[2]"
   ]
  },
  {
   "cell_type": "code",
   "execution_count": 21,
   "metadata": {},
   "outputs": [],
   "source": [
    "# 소속 정당은 dict 를 사용해서 표시할 수 있다."
   ]
  },
  {
   "cell_type": "code",
   "execution_count": 22,
   "metadata": {},
   "outputs": [],
   "source": [
    "parties = {'Bachmann, Michelle': 'Republican',\n",
    "          'Cain, Herman': 'Republican',\n",
    "          'Gingrich, Newt': 'Republican',\n",
    "          'Huntsman, Jon': 'Republican',\n",
    "          'Johnson, Gary Earl': 'Republican',\n",
    "          'McCotter, Thaddeus G': 'Republican',\n",
    "          'Obama, Barack': 'Democrat',\n",
    "          'Paul, Ron': 'Republican',\n",
    "          'Pawlenty, Timothy': 'Republican',\n",
    "          'Perry, Rick': 'Republican',\n",
    "          \"Roemer, Charles E. 'Buddy' III\": 'Republican',\n",
    "          \"Romney, Mitt\": 'Republican',\n",
    "          'Santorum, Rick': 'Republican',}"
   ]
  },
  {
   "cell_type": "code",
   "execution_count": 23,
   "metadata": {},
   "outputs": [
    {
     "data": {
      "text/plain": [
       "123456    Obama, Barack\n",
       "123457    Obama, Barack\n",
       "123458    Obama, Barack\n",
       "123459    Obama, Barack\n",
       "123460    Obama, Barack\n",
       "Name: cand_nm, dtype: object"
      ]
     },
     "execution_count": 23,
     "metadata": {},
     "output_type": "execute_result"
    }
   ],
   "source": [
    "# 이 사전 정보와 Series 객체의 amp 메서드를 사용해 후보 이름으로부터\n",
    "# 정당 배열을 계산해낼 수 있다.\n",
    "\n",
    "fec.cand_nm[123456:123461]"
   ]
  },
  {
   "cell_type": "code",
   "execution_count": 24,
   "metadata": {},
   "outputs": [
    {
     "data": {
      "text/plain": [
       "123456    Democrat\n",
       "123457    Democrat\n",
       "123458    Democrat\n",
       "123459    Democrat\n",
       "123460    Democrat\n",
       "Name: cand_nm, dtype: object"
      ]
     },
     "execution_count": 24,
     "metadata": {},
     "output_type": "execute_result"
    }
   ],
   "source": [
    "fec.cand_nm[123456:123461].map(parties)\n",
    "# print(fec.cand_nm)\n",
    "\n",
    "# 해당 딕셔너리의 키값을 찾아 키값의 밸류값을 전부 바꿔준다.\n",
    "\n",
    "# map함수는 DataFrame 타입이 아니라, 반드시 Series 타입에서만 사용해야 한다.\n",
    "# 먼저, Series를 한마디로 정의하면 딱 이거다.\n",
    "# 값(value) + 인덱스(index) = 시리즈 클래스(Series)\n",
    "\n",
    "# Series는 NumPy에서 제공하는 1차원 배열과 비슷하지만 \n",
    "# 각 데이터의 의미를 표시하는 인덱스(index)를 붙일 수 있다. \n",
    "# 하지만 데이터 자체는 그냥 값(value)의 1차원 배열이다.\n",
    "# map함수는 Series의 이러한 값 하나하나에 접근하면서 해당 함수를 수행한다."
   ]
  },
  {
   "cell_type": "code",
   "execution_count": 25,
   "metadata": {},
   "outputs": [
    {
     "data": {
      "text/plain": [
       "Democrat      593746\n",
       "Republican    407985\n",
       "Name: party, dtype: int64"
      ]
     },
     "execution_count": 25,
     "metadata": {},
     "output_type": "execute_result"
    }
   ],
   "source": [
    "# party 컬럼으로 추가\n",
    "\n",
    "fec['party'] = fec.cand_nm.map(parties)\n",
    "fec['party'].value_counts()\n",
    "\n",
    "# party 컬럼을 만들고, map 함수를 적용해서 키값에 해당하는 밸류값을 바꿔주고\n",
    "# 밸류값을 몇개 있는지 총 개수를 value_counts 함수를 이용해 구한다."
   ]
  },
  {
   "cell_type": "code",
   "execution_count": 26,
   "metadata": {},
   "outputs": [],
   "source": [
    "# 분석을 하기 전에 데이터를 다음어야 한다. \n",
    "# 이 데이터에는 기부금액과 환급금액(기부금액이 마이너스인 경우)이 함께 포함되어 있다."
   ]
  },
  {
   "cell_type": "code",
   "execution_count": 27,
   "metadata": {},
   "outputs": [
    {
     "data": {
      "text/plain": [
       "True     991475\n",
       "False     10256\n",
       "Name: contb_receipt_amt, dtype: int64"
      ]
     },
     "execution_count": 27,
     "metadata": {},
     "output_type": "execute_result"
    }
   ],
   "source": [
    "(fec.contb_receipt_amt>0).value_counts()"
   ]
  },
  {
   "cell_type": "code",
   "execution_count": 28,
   "metadata": {},
   "outputs": [],
   "source": [
    "# 분석을 단순화 하기 위해 기부금액이 양수인 데이터만 골라내겠다."
   ]
  },
  {
   "cell_type": "code",
   "execution_count": 29,
   "metadata": {},
   "outputs": [],
   "source": [
    "fec = fec[fec.contb_receipt_amt>0]\n",
    "\n",
    "# 왜 리스트로 묶어서 했으며, 위에 있는걸로 왜 마이너스가 들어가 있는것까지 함께 포함되는가"
   ]
  },
  {
   "cell_type": "code",
   "execution_count": 30,
   "metadata": {},
   "outputs": [],
   "source": [
    "# 버락 오바마와 미트 롬니가 양대 후보이므로 이 두 후보의 기부금액 정보만 따로 추려내겠다."
   ]
  },
  {
   "cell_type": "code",
   "execution_count": 59,
   "metadata": {},
   "outputs": [
    {
     "name": "stdout",
     "output_type": "stream",
     "text": [
      "       cmte_id    cand_id       cand_nm              contbr_nm contbr_city  \\\n",
      "411  C00431171  P80003353  Romney, Mitt     ELDERBAUM, WILLIAM         DPO   \n",
      "412  C00431171  P80003353  Romney, Mitt     ELDERBAUM, WILLIAM         DPO   \n",
      "413  C00431171  P80003353  Romney, Mitt       CARLSEN, RICHARD         APO   \n",
      "414  C00431171  P80003353  Romney, Mitt         DELUCA, PIERRE         APO   \n",
      "415  C00431171  P80003353  Romney, Mitt       SARGENT, MICHAEL         APO   \n",
      "416  C00431171  P80003353  Romney, Mitt  WILSON, ANDREW C. MR.         DPO   \n",
      "417  C00431171  P80003353  Romney, Mitt          GRIFFIS, JOHN         APO   \n",
      "418  C00431171  P80003353  Romney, Mitt       SARGENT, MICHAEL         APO   \n",
      "419  C00431171  P80003353  Romney, Mitt          GRIFFIS, JOHN         APO   \n",
      "420  C00431171  P80003353  Romney, Mitt     DELUCA, PIERRE MR.         APO   \n",
      "\n",
      "    contbr_st   contbr_zip                   contbr_employer  \\\n",
      "411        AA   3.4023e+08                     US GOVERNMENT   \n",
      "412        AA   3.4023e+08                     US GOVERNMENT   \n",
      "413        AE    9.128e+07       DEFENSE INTELLIGENCE AGENCY   \n",
      "414        AE    9.128e+07                             CISCO   \n",
      "415        AE  9.01201e+07  RAYTHEON TECHNICAL SERVICES CORP   \n",
      "416        AE     9.87e+07                  US DEPT OF STATE   \n",
      "417        AE    9.128e+07                           US ARMY   \n",
      "418        AE  9.01201e+07  RAYTHEON TECHNICAL SERVICES CORP   \n",
      "419        AE    9.128e+07                           US ARMY   \n",
      "420        AE    9.128e+07                           US ARMY   \n",
      "\n",
      "             contbr_occupation  contb_receipt_amt contb_receipt_dt  \\\n",
      "411    FOREIGN SERVICE OFFICER               25.0        01-FEB-12   \n",
      "412    FOREIGN SERVICE OFFICER              110.0        01-FEB-12   \n",
      "413       INTELLIGENCE ANALYST              250.0        13-APR-12   \n",
      "414                   ENGINEER               30.0        21-AUG-11   \n",
      "415  COMPUTER SYSTEMS ENGINEER              100.0        07-MAR-12   \n",
      "416    FOREIGN SERVICE OFFICER               50.0        17-MAR-12   \n",
      "417           MILITARY OFFICER              250.0        20-MAR-12   \n",
      "418  COMPUTER SYSTEMS ENGINEER              100.0        09-APR-12   \n",
      "419           MILITARY OFFICER              250.0        28-JAN-12   \n",
      "420                   ENGINEER               50.0        01-FEB-12   \n",
      "\n",
      "    receipt_desc memo_cd memo_text form_tp  file_num       party  \n",
      "411          NaN     NaN       NaN   SA17A    780124  Republican  \n",
      "412          NaN     NaN       NaN   SA17A    780124  Republican  \n",
      "413          NaN     NaN       NaN   SA17A    785689  Republican  \n",
      "414          NaN     NaN       NaN   SA17A    760261  Republican  \n",
      "415          NaN     NaN       NaN   SA17A    780128  Republican  \n",
      "416          NaN     NaN       NaN   SA17A    780128  Republican  \n",
      "417          NaN     NaN       NaN   SA17A    780128  Republican  \n",
      "418          NaN     NaN       NaN   SA17A    785689  Republican  \n",
      "419          NaN     NaN       NaN   SA17A    771933  Republican  \n",
      "420          NaN     NaN       NaN   SA17A    780124  Republican  \n"
     ]
    }
   ],
   "source": [
    "fec_mrbo = fec[fec.cand_nm.isin(['Obama, Barack', 'Romney, Mitt'])]\n",
    "print(fec_mrbo[:10])\n",
    "\n",
    "# isin 구문은 열이 list의 값들을 포함하고 있는 모든 행들을 \n",
    "# 골라낼 때 주로 쓰인다. "
   ]
  },
  {
   "cell_type": "code",
   "execution_count": 32,
   "metadata": {},
   "outputs": [],
   "source": [
    "# 직업 및 고용주에 따른 기부 통계\n",
    "# 예를 들어 변호사는 민주당에 더 많은 돈을 기부하는 경향이 있으며,\n",
    "# 기업 임원은 공화당에 더 많은 돈을 기부하는 경향이 있지만,\n",
    "# 그대로 받아들이기보다는 데이터를 통해 직접 확인해보자\n",
    "# 직업별 전체 기부 숫자는 쉽게 구할 수 있다."
   ]
  },
  {
   "cell_type": "code",
   "execution_count": 63,
   "metadata": {},
   "outputs": [
    {
     "data": {
      "text/plain": [
       "RETIRED         233990\n",
       "NOT PROVIDED     35107\n",
       "ATTORNEY         34286\n",
       "HOMEMAKER        29931\n",
       "PHYSICIAN        23432\n",
       "NOT PROVIDEO     22044\n",
       "ENGINEER         14334\n",
       "TEACHER          13990\n",
       "CONSULTANT       13273\n",
       "PROFESSOR        12555\n",
       "Name: contbr_occupation, dtype: int64"
      ]
     },
     "execution_count": 63,
     "metadata": {},
     "output_type": "execute_result"
    }
   ],
   "source": [
    "fec.contbr_occupation.value_counts()[:10]\n",
    "\n",
    "\n",
    "# 전체 직업별 기부 숫자"
   ]
  },
  {
   "cell_type": "code",
   "execution_count": 67,
   "metadata": {},
   "outputs": [
    {
     "name": "stdout",
     "output_type": "stream",
     "text": [
      "0                               RETIRED\n",
      "1                               RETIRED\n",
      "2                          NOT PROVIDED\n",
      "3                               RETIRED\n",
      "4                               RETIRED\n",
      "                       ...             \n",
      "1001726                    NOT PROVIDEO\n",
      "1001727                  BUSINESS OWNER\n",
      "1001728                    NOT PROVIDEO\n",
      "1001729    LONGWALL MAINTENANCE FOREMAN\n",
      "1001730                    NOT PROVIDEO\n",
      "Name: contbr_occupation, Length: 991475, dtype: object\n"
     ]
    }
   ],
   "source": [
    "print(fec.contbr_occupation)"
   ]
  },
  {
   "cell_type": "code",
   "execution_count": 34,
   "metadata": {},
   "outputs": [],
   "source": [
    "# 내용을 보면 일반적인 직업 유형이거나 같은 유형이지만,\n",
    "# 다른 이름으로 많은 결과가 포함되어 있음을 알 수 있다.\n",
    "# 하나의 직업을 다른 직업으로 매핑함으로써 이런 문제를 제거하자\n",
    "# dict.get 을 사용하는 꼼수를 써서 매핑 정보가 없는 직업은 그대로 사용한다."
   ]
  },
  {
   "cell_type": "code",
   "execution_count": 70,
   "metadata": {},
   "outputs": [
    {
     "name": "stdout",
     "output_type": "stream",
     "text": [
      "{'INFORMATION REQUESTED PER BEST EFFORTS': 'NOT PROVIDEO', 'INFORMATION REQUESTED': 'NOT PROVIDED', 'INFORMATION REQUESTED (BEST EFFORTS)': 'NOT PROVIDEO', 'C.E.O': 'CEO'}\n",
      "0                               RETIRED\n",
      "1                               RETIRED\n",
      "2                          NOT PROVIDED\n",
      "3                               RETIRED\n",
      "4                               RETIRED\n",
      "                       ...             \n",
      "1001726                    NOT PROVIDEO\n",
      "1001727                  BUSINESS OWNER\n",
      "1001728                    NOT PROVIDEO\n",
      "1001729    LONGWALL MAINTENANCE FOREMAN\n",
      "1001730                    NOT PROVIDEO\n",
      "Name: contbr_occupation, Length: 991475, dtype: object\n"
     ]
    }
   ],
   "source": [
    "occ_mapping = {\n",
    "    'INFORMATION REQUESTED PER BEST EFFORTS': 'NOT PROVIDEO',\n",
    "    'INFORMATION REQUESTED' : 'NOT PROVIDED',\n",
    "    'INFORMATION REQUESTED (BEST EFFORTS)' : 'NOT PROVIDEO',\n",
    "    'C.E.O': 'CEO'\n",
    "}\n",
    "\n",
    "f = lambda x: occ_mapping.get(x, x)\n",
    "\n",
    "# lambda 를 이용해서 키값을 밸류값으로 전부 바꿔주는데\n",
    "# x에 해당 키 값이 없으면 그대로 반환해준다.\n",
    "# 즉 fec.contbr_occupation 안에 있는 모든 값들에 대해\n",
    "# map 함수로 위의 f 식을 적용해서\n",
    "# 하나씩 전부 꺼내와 키값과 해당 값을 비교해서\n",
    "# 같은 키값이라면 밸류값으로 바꿔준다.\n",
    "\n",
    "\n",
    "# mapping 이 없다면 x를 반환한다.\n",
    "\n",
    "\n",
    "# 파이썬에서 \"lambda\" 는 런타임에 생성해서 사용할 수 있는 \n",
    "# 익명 함수 입니다. \n",
    "# 이것은 함수형 프로그래밍 언어에서 lambda와 정확히 똑같은 것은 아니지만,\n",
    "# 파이썬에 잘 통합되어 있으며 filter(), map(), reduce()와  같은 \n",
    "# 전형적인 기능 개념과 함께 사용되는 매우 강력한 개념입니다.\n",
    "\n",
    "# lambda는 쓰고 버리는 일시적인 함수 입니다. \n",
    "# 함수가 생성된 곳에서만 필요합니다. \n",
    "# 즉, 간단한 기능을 일반적인 함수와 같이 정의해두고 쓰는 것이 아니고 \n",
    "# 필요한 곳에서 즉시 사용하고 버릴 수 있습니다\n",
    "\n",
    "print(occ_mapping)\n",
    "\n",
    "\n",
    "fec.contbr_occupation = fec.contbr_occupation.map(f)\n",
    "print(fec.contbr_occupation)\n",
    "# fec.contbr_occupation 에 있는 값에 map 함수를 적용해서\n",
    "# f 의 lamdba function 을 iterable의 모든 요소에 대해 적용한다.\n",
    "# 즉, occ.mapping.get(x, x) 계속 실행해서 lambda 에 의해 변경된 \n",
    "# 값을 반환하여 fec.contbr_occupation 변수에 할당한다.\n",
    "\n",
    "\n",
    "# 람다 함수의 장점은 map() 함수와 함께 사용될 때 볼 수 있습니다.  \n",
    "# map() 은 두 개의 인수를 가지는 함수입니다.\n",
    "\n",
    "# r = map(function, iterable, ...)\n",
    "# 첫 번째 인자 function 는 함수의 이름 입니다. \n",
    "# 두 번째 인자 iterable은 한번에 하나의 멤버를 반환할 수 있는 객체 입니다\n",
    "# .(list, str, tuple) map() 함수는 function을 iterable의 모든 요소에 대해\n",
    "# 적용합니다. 그리고 function에 의해 변경된  iterator를 반환합니다\n"
   ]
  },
  {
   "cell_type": "code",
   "execution_count": 36,
   "metadata": {},
   "outputs": [],
   "source": [
    "# 고용주에 대해서도 마찬가지로 처리하자"
   ]
  },
  {
   "cell_type": "code",
   "execution_count": 71,
   "metadata": {},
   "outputs": [
    {
     "name": "stdout",
     "output_type": "stream",
     "text": [
      "0                               RETIRED\n",
      "1                               RETIRED\n",
      "2                          NOT PROVIDED\n",
      "3                                  NONE\n",
      "4                                  NONE\n",
      "                       ...             \n",
      "1001726                    NOT PROVIDEO\n",
      "1001727    DUFFY EQUIPMENT COMPANY INC.\n",
      "1001728                    NOT PROVIDEO\n",
      "1001729                        T.A.C.C.\n",
      "1001730                    NOT PROVIDEO\n",
      "Name: contbr_employer, Length: 991475, dtype: object\n"
     ]
    }
   ],
   "source": [
    "emp_mapping = {\n",
    "    'INFORMATION REQUESTED PER BEST EFFORTS': 'NOT PROVIDEO',\n",
    "    'INFORMATION REQUESTED' : 'NOT PROVIDED',\n",
    "    'SELF' : 'SELF-EMPLOYED',\n",
    "    'SELF EMPLOYED' : 'SELF-EMPLOYED'\n",
    "}\n",
    "\n",
    "f = lambda x: emp_mapping.get(x, x)\n",
    "fec.contbr_employer = fec.contbr_employer.map(f)\n",
    "\n",
    "print(fec.contbr_employer)"
   ]
  },
  {
   "cell_type": "code",
   "execution_count": 38,
   "metadata": {},
   "outputs": [],
   "source": [
    "# 이제 pivot_table 을 사용해서 정당과 직업별로 데이터를 집계한 다음\n",
    "# 최소 2백만불 이상 기부한 직업만 골라내자"
   ]
  },
  {
   "cell_type": "code",
   "execution_count": 39,
   "metadata": {},
   "outputs": [
    {
     "data": {
      "text/html": [
       "<div>\n",
       "<style scoped>\n",
       "    .dataframe tbody tr th:only-of-type {\n",
       "        vertical-align: middle;\n",
       "    }\n",
       "\n",
       "    .dataframe tbody tr th {\n",
       "        vertical-align: top;\n",
       "    }\n",
       "\n",
       "    .dataframe thead th {\n",
       "        text-align: right;\n",
       "    }\n",
       "</style>\n",
       "<table border=\"1\" class=\"dataframe\">\n",
       "  <thead>\n",
       "    <tr style=\"text-align: right;\">\n",
       "      <th>party</th>\n",
       "      <th>Democrat</th>\n",
       "      <th>Republican</th>\n",
       "    </tr>\n",
       "    <tr>\n",
       "      <th>contbr_occupation</th>\n",
       "      <th></th>\n",
       "      <th></th>\n",
       "    </tr>\n",
       "  </thead>\n",
       "  <tbody>\n",
       "    <tr>\n",
       "      <th>ATTORNEY</th>\n",
       "      <td>11141982.97</td>\n",
       "      <td>7.477194e+06</td>\n",
       "    </tr>\n",
       "    <tr>\n",
       "      <th>C.E.O.</th>\n",
       "      <td>1690.00</td>\n",
       "      <td>2.592983e+06</td>\n",
       "    </tr>\n",
       "    <tr>\n",
       "      <th>CEO</th>\n",
       "      <td>2074284.79</td>\n",
       "      <td>1.640758e+06</td>\n",
       "    </tr>\n",
       "    <tr>\n",
       "      <th>CONSULTANT</th>\n",
       "      <td>2459912.71</td>\n",
       "      <td>2.544725e+06</td>\n",
       "    </tr>\n",
       "    <tr>\n",
       "      <th>ENGINEER</th>\n",
       "      <td>951525.55</td>\n",
       "      <td>1.818374e+06</td>\n",
       "    </tr>\n",
       "    <tr>\n",
       "      <th>EXECUTIVE</th>\n",
       "      <td>1355161.05</td>\n",
       "      <td>4.138850e+06</td>\n",
       "    </tr>\n",
       "    <tr>\n",
       "      <th>HOMEMAKER</th>\n",
       "      <td>4248875.80</td>\n",
       "      <td>1.363428e+07</td>\n",
       "    </tr>\n",
       "    <tr>\n",
       "      <th>INVESTOR</th>\n",
       "      <td>884133.00</td>\n",
       "      <td>2.431769e+06</td>\n",
       "    </tr>\n",
       "    <tr>\n",
       "      <th>LAWYER</th>\n",
       "      <td>3160478.87</td>\n",
       "      <td>3.912243e+05</td>\n",
       "    </tr>\n",
       "    <tr>\n",
       "      <th>MANAGER</th>\n",
       "      <td>762883.22</td>\n",
       "      <td>1.444532e+06</td>\n",
       "    </tr>\n",
       "    <tr>\n",
       "      <th>NOT PROVIDED</th>\n",
       "      <td>4866973.96</td>\n",
       "      <td>3.896616e+06</td>\n",
       "    </tr>\n",
       "    <tr>\n",
       "      <th>NOT PROVIDEO</th>\n",
       "      <td>NaN</td>\n",
       "      <td>1.666886e+07</td>\n",
       "    </tr>\n",
       "    <tr>\n",
       "      <th>OWNER</th>\n",
       "      <td>1001567.36</td>\n",
       "      <td>2.408287e+06</td>\n",
       "    </tr>\n",
       "    <tr>\n",
       "      <th>PHYSICIAN</th>\n",
       "      <td>3735124.94</td>\n",
       "      <td>3.594320e+06</td>\n",
       "    </tr>\n",
       "    <tr>\n",
       "      <th>PRESIDENT</th>\n",
       "      <td>1878509.95</td>\n",
       "      <td>4.720924e+06</td>\n",
       "    </tr>\n",
       "    <tr>\n",
       "      <th>PROFESSOR</th>\n",
       "      <td>2165071.08</td>\n",
       "      <td>2.967027e+05</td>\n",
       "    </tr>\n",
       "    <tr>\n",
       "      <th>REAL ESTATE</th>\n",
       "      <td>528902.09</td>\n",
       "      <td>1.625902e+06</td>\n",
       "    </tr>\n",
       "    <tr>\n",
       "      <th>RETIRED</th>\n",
       "      <td>25305116.38</td>\n",
       "      <td>2.356124e+07</td>\n",
       "    </tr>\n",
       "    <tr>\n",
       "      <th>SELF-EMPLOYED</th>\n",
       "      <td>672393.40</td>\n",
       "      <td>1.640253e+06</td>\n",
       "    </tr>\n",
       "  </tbody>\n",
       "</table>\n",
       "</div>"
      ],
      "text/plain": [
       "party                 Democrat    Republican\n",
       "contbr_occupation                           \n",
       "ATTORNEY           11141982.97  7.477194e+06\n",
       "C.E.O.                 1690.00  2.592983e+06\n",
       "CEO                 2074284.79  1.640758e+06\n",
       "CONSULTANT          2459912.71  2.544725e+06\n",
       "ENGINEER             951525.55  1.818374e+06\n",
       "EXECUTIVE           1355161.05  4.138850e+06\n",
       "HOMEMAKER           4248875.80  1.363428e+07\n",
       "INVESTOR             884133.00  2.431769e+06\n",
       "LAWYER              3160478.87  3.912243e+05\n",
       "MANAGER              762883.22  1.444532e+06\n",
       "NOT PROVIDED        4866973.96  3.896616e+06\n",
       "NOT PROVIDEO               NaN  1.666886e+07\n",
       "OWNER               1001567.36  2.408287e+06\n",
       "PHYSICIAN           3735124.94  3.594320e+06\n",
       "PRESIDENT           1878509.95  4.720924e+06\n",
       "PROFESSOR           2165071.08  2.967027e+05\n",
       "REAL ESTATE          528902.09  1.625902e+06\n",
       "RETIRED            25305116.38  2.356124e+07\n",
       "SELF-EMPLOYED        672393.40  1.640253e+06"
      ]
     },
     "execution_count": 39,
     "metadata": {},
     "output_type": "execute_result"
    }
   ],
   "source": [
    "by_occupation = fec.pivot_table('contb_receipt_amt',\n",
    "                               index='contbr_occupation',\n",
    "                               columns='party', aggfunc='sum')\n",
    "over_2mm = by_occupation[by_occupation.sum(1) > 2000000]\n",
    "\n",
    "# 행 합계는 sum(1), sum(axis=1)\n",
    "# 열 합계는 sum(0), sum(axis=0)\n",
    "over_2mm"
   ]
  },
  {
   "cell_type": "code",
   "execution_count": 40,
   "metadata": {},
   "outputs": [],
   "source": [
    "# 이런 종류의 데이터는 막대그래프로 ('barh' 는 수평막대그래프를 의미한다)\n",
    "# 시각화 하는 편이 보기 좋다."
   ]
  },
  {
   "cell_type": "code",
   "execution_count": 73,
   "metadata": {},
   "outputs": [
    {
     "data": {
      "text/plain": [
       "<matplotlib.axes._subplots.AxesSubplot at 0x24c5056ad08>"
      ]
     },
     "execution_count": 73,
     "metadata": {},
     "output_type": "execute_result"
    },
    {
     "data": {
      "image/png": "[encoded data removed]",
      "text/plain": [
       "<Figure size 1080x1080 with 1 Axes>"
      ]
     },
     "metadata": {
      "needs_background": "light"
     },
     "output_type": "display_data"
    }
   ],
   "source": [
    "over_2mm.plot(kind='barh', figsize=(15, 15))"
   ]
  },
  {
   "cell_type": "code",
   "execution_count": 42,
   "metadata": {},
   "outputs": [],
   "source": [
    "# 오바마 후보와 롬니 후보별로 가장 많은 금액을 기부한 직군을 알아보자\n",
    "# 이 통계를 구하려면 후보 이름으로 그룹을 묶고 이 장의 앞에서 사용했던\n",
    "# 변형된 top 메서드를 이용하면 된다."
   ]
  },
  {
   "cell_type": "code",
   "execution_count": 43,
   "metadata": {},
   "outputs": [],
   "source": [
    "def get_top_amounts(group, key, n=5):\n",
    "    # 매개인자로 group 과 key 를 받고 n 의 default 값으로 5를 준다.\n",
    "    totals = group.groupby(key)['contb_receipt_amt'].sum()\n",
    "    # key 를 기준으로 contb_receipt_amt 를 groupby 해서 더한 값을\n",
    "    # totals 에 할당한다.\n",
    "    return totals.nlargest(n)\n",
    "\n",
    "    # 리턴값으로 totals 의 그룹내에서 상위 n개 즉 5개를 가져온다."
   ]
  },
  {
   "cell_type": "code",
   "execution_count": 77,
   "metadata": {},
   "outputs": [
    {
     "name": "stdout",
     "output_type": "stream",
     "text": [
      "          cmte_id    cand_id        cand_nm           contbr_nm contbr_city  \\\n",
      "411     C00431171  P80003353   Romney, Mitt  ELDERBAUM, WILLIAM         DPO   \n",
      "412     C00431171  P80003353   Romney, Mitt  ELDERBAUM, WILLIAM         DPO   \n",
      "413     C00431171  P80003353   Romney, Mitt    CARLSEN, RICHARD         APO   \n",
      "414     C00431171  P80003353   Romney, Mitt      DELUCA, PIERRE         APO   \n",
      "415     C00431171  P80003353   Romney, Mitt    SARGENT, MICHAEL         APO   \n",
      "...           ...        ...            ...                 ...         ...   \n",
      "701381  C00431445  P80003338  Obama, Barack      MOUNTS, ROBERT         APO   \n",
      "701382  C00431445  P80003338  Obama, Barack     TAITANO, TYRONE     HAGATNA   \n",
      "701383  C00431445  P80003338  Obama, Barack      TUCKER, PAMELA         APO   \n",
      "701384  C00431445  P80003338  Obama, Barack      MOUNTS, ROBERT         APO   \n",
      "701385  C00431445  P80003338  Obama, Barack         NEAL, AMBER         APO   \n",
      "\n",
      "       contbr_st   contbr_zip                         contbr_employer  \\\n",
      "411           AA   3.4023e+08                           US GOVERNMENT   \n",
      "412           AA   3.4023e+08                           US GOVERNMENT   \n",
      "413           AE    9.128e+07             DEFENSE INTELLIGENCE AGENCY   \n",
      "414           AE    9.128e+07                                   CISCO   \n",
      "415           AE  9.01201e+07        RAYTHEON TECHNICAL SERVICES CORP   \n",
      "...          ...          ...                                     ...   \n",
      "701381        ZZ    962043077                       HQ USFK (FKDC-SA)   \n",
      "701382        ZZ    969323373                            NOT EMPLOYED   \n",
      "701383        ZZ    963190030                                   DODEA   \n",
      "701384        ZZ    962043077                       HQ USFK (FKDC-SA)   \n",
      "701385        ZZ    091022065  THE DEPARTMENT OF DEFENSE EDUCATION AC   \n",
      "\n",
      "                            contbr_occupation  contb_receipt_amt  \\\n",
      "411                   FOREIGN SERVICE OFFICER               25.0   \n",
      "412                   FOREIGN SERVICE OFFICER              110.0   \n",
      "413                      INTELLIGENCE ANALYST              250.0   \n",
      "414                                  ENGINEER               30.0   \n",
      "415                 COMPUTER SYSTEMS ENGINEER              100.0   \n",
      "...                                       ...                ...   \n",
      "701381  GS-15 INTERNATIONAL RELATIONS OFFICER               25.0   \n",
      "701382                                RETIRED              250.0   \n",
      "701383                               EDUCATOR                3.0   \n",
      "701384  GS-15 INTERNATIONAL RELATIONS OFFICER               25.0   \n",
      "701385                                TEACHER              135.0   \n",
      "\n",
      "       contb_receipt_dt receipt_desc memo_cd                  memo_text  \\\n",
      "411           01-FEB-12          NaN     NaN                        NaN   \n",
      "412           01-FEB-12          NaN     NaN                        NaN   \n",
      "413           13-APR-12          NaN     NaN                        NaN   \n",
      "414           21-AUG-11          NaN     NaN                        NaN   \n",
      "415           07-MAR-12          NaN     NaN                        NaN   \n",
      "...                 ...          ...     ...                        ...   \n",
      "701381        26-FEB-12          NaN     NaN                        NaN   \n",
      "701382        20-JAN-12          NaN     NaN                        NaN   \n",
      "701383        20-JAN-12          NaN     NaN                        NaN   \n",
      "701384        26-APR-12          NaN     NaN                        NaN   \n",
      "701385        04-SEP-11          NaN       X  * OBAMA VICTORY FUND 2012   \n",
      "\n",
      "       form_tp  file_num       party  \n",
      "411      SA17A    780124  Republican  \n",
      "412      SA17A    780124  Republican  \n",
      "413      SA17A    785689  Republican  \n",
      "414      SA17A    760261  Republican  \n",
      "415      SA17A    780128  Republican  \n",
      "...        ...       ...         ...  \n",
      "701381   SA17A    787803    Democrat  \n",
      "701382   SA17A    775668    Democrat  \n",
      "701383   SA17A    775668    Democrat  \n",
      "701384   SA17A    785239    Democrat  \n",
      "701385    SA18    756218    Democrat  \n",
      "\n",
      "[694282 rows x 17 columns]\n",
      "<pandas.core.groupby.generic.DataFrameGroupBy object at 0x0000024C50876B88>\n"
     ]
    }
   ],
   "source": [
    "grouped = fec_mrbo.groupby('cand_nm')\n",
    "# fec_mrbo 데이터 중 cand_nm 으로 묶어서 grouped 에 할당한다.\n",
    "# fec_mrbo 는 대표 두 후보의 기부금만 따로 빼낸 데이터\n",
    "print(fec_mrbo)\n",
    "print(grouped)"
   ]
  },
  {
   "cell_type": "code",
   "execution_count": 76,
   "metadata": {},
   "outputs": [
    {
     "data": {
      "text/plain": [
       "cand_nm        contbr_occupation\n",
       "Obama, Barack  RETIRED              25305116.38\n",
       "               ATTORNEY             11141982.97\n",
       "               NOT PROVIDED          4866973.96\n",
       "               HOMEMAKER             4248875.80\n",
       "               PHYSICIAN             3735124.94\n",
       "               LAWYER                3160478.87\n",
       "               CONSULTANT            2459912.71\n",
       "Romney, Mitt   RETIRED              11508473.59\n",
       "               NOT PROVIDEO         11396894.84\n",
       "               HOMEMAKER             8147446.22\n",
       "               ATTORNEY              5364718.82\n",
       "               PRESIDENT             2491244.89\n",
       "               EXECUTIVE             2300947.03\n",
       "               C.E.O.                1968386.11\n",
       "Name: contb_receipt_amt, dtype: float64"
      ]
     },
     "execution_count": 76,
     "metadata": {},
     "output_type": "execute_result"
    }
   ],
   "source": [
    "grouped.apply(get_top_amounts, 'contbr_occupation', n=7)\n",
    "\n",
    "# grouped 의 데이터값을 get_top_amounts 함수에 넣는다.\n",
    "# contbr_occupation 을 키 값으로 넣고, \n",
    "# 각 7번째 최고 기부금 합계 데이터값들을 가져온다."
   ]
  },
  {
   "cell_type": "code",
   "execution_count": 45,
   "metadata": {},
   "outputs": [
    {
     "data": {
      "text/plain": [
       "cand_nm        contbr_employer                       \n",
       "Obama, Barack  RETIRED                                   22694358.85\n",
       "               SELF-EMPLOYED                             17080985.96\n",
       "               NOT EMPLOYED                               8586308.70\n",
       "               INFORMATION REQUESTED                      5053480.37\n",
       "               HOMEMAKER                                  2605408.54\n",
       "               SELF                                       1076531.20\n",
       "               SELF EMPLOYED                               469290.00\n",
       "               STUDENT                                     318831.45\n",
       "               VOLUNTEER                                   257104.00\n",
       "               MICROSOFT                                   215585.36\n",
       "Romney, Mitt   INFORMATION REQUESTED PER BEST EFFORTS    12059527.24\n",
       "               RETIRED                                   11506225.71\n",
       "               HOMEMAKER                                  8147196.22\n",
       "               SELF-EMPLOYED                              7409860.98\n",
       "               STUDENT                                     496490.94\n",
       "               CREDIT SUISSE                               281150.00\n",
       "               MORGAN STANLEY                              267266.00\n",
       "               GOLDMAN SACH & CO.                          238250.00\n",
       "               BARCLAYS CAPITAL                            162750.00\n",
       "               H.I.G. CAPITAL                              139500.00\n",
       "Name: contb_receipt_amt, dtype: float64"
      ]
     },
     "execution_count": 45,
     "metadata": {},
     "output_type": "execute_result"
    }
   ],
   "source": [
    "grouped.apply(get_top_amounts, 'contbr_employer', n=10)"
   ]
  },
  {
   "cell_type": "code",
   "execution_count": 78,
   "metadata": {},
   "outputs": [],
   "source": [
    "# 기부금액\n",
    "# 이 데이터를 효과적으로 분석하는 방법은 cut 함수를 이용해서\n",
    "# 깁 규모별로 버킷을 만들어 기부자 수를 분할하는 것이다."
   ]
  },
  {
   "cell_type": "code",
   "execution_count": 80,
   "metadata": {},
   "outputs": [
    {
     "name": "stdout",
     "output_type": "stream",
     "text": [
      "411        25.0\n",
      "412       110.0\n",
      "413       250.0\n",
      "414        30.0\n",
      "415       100.0\n",
      "          ...  \n",
      "701381     25.0\n",
      "701382    250.0\n",
      "701383      3.0\n",
      "701384     25.0\n",
      "701385    135.0\n",
      "Name: contb_receipt_amt, Length: 694282, dtype: float64\n"
     ]
    }
   ],
   "source": [
    "print(fec_mrbo.contb_receipt_amt)"
   ]
  },
  {
   "cell_type": "code",
   "execution_count": 47,
   "metadata": {},
   "outputs": [
    {
     "data": {
      "text/plain": [
       "411         (10, 100]\n",
       "412       (100, 1000]\n",
       "413       (100, 1000]\n",
       "414         (10, 100]\n",
       "415         (10, 100]\n",
       "             ...     \n",
       "701381      (10, 100]\n",
       "701382    (100, 1000]\n",
       "701383        (1, 10]\n",
       "701384      (10, 100]\n",
       "701385    (100, 1000]\n",
       "Name: contb_receipt_amt, Length: 694282, dtype: category\n",
       "Categories (8, interval[int64]): [(0, 1] < (1, 10] < (10, 100] < (100, 1000] < (1000, 10000] < (10000, 100000] < (100000, 1000000] < (1000000, 10000000]]"
      ]
     },
     "execution_count": 47,
     "metadata": {},
     "output_type": "execute_result"
    }
   ],
   "source": [
    "import numpy as np\n",
    "\n",
    "bins = np.array([0, 1, 10, 100, 1000, 10000, 100000, 1000000, 10000000])\n",
    "labels = pd.cut(fec_mrbo.contb_receipt_amt, bins)\n",
    "\n",
    "# fec_mrbo.contb_receipt_amt 의 값을 bins 변수를 적용하는데\n",
    "# cut 함수를 이용해서 동일 길이로 나누어 범주를 만든 값을 labels변수에\n",
    "# 할당한다.\n",
    "\n",
    "# 동일 길이로 나누어서 범주 만들기\n",
    "\n",
    "labels"
   ]
  },
  {
   "cell_type": "code",
   "execution_count": 86,
   "metadata": {},
   "outputs": [],
   "source": [
    "# 이제 이 데이터를 이름과 버킷 이름으로 그룹지어 기부금액 규모에 따른\n",
    "# 히스토리그램을 그릴 수 있다."
   ]
  },
  {
   "cell_type": "code",
   "execution_count": 88,
   "metadata": {},
   "outputs": [
    {
     "data": {
      "text/plain": [
       "cand_nm        contb_receipt_amt  \n",
       "Obama, Barack  (0, 1]                    493\n",
       "               (1, 10]                 40070\n",
       "               (10, 100]              372280\n",
       "               (100, 1000]            153991\n",
       "               (1000, 10000]           22284\n",
       "               (10000, 100000]             2\n",
       "               (100000, 1000000]           3\n",
       "               (1000000, 10000000]         4\n",
       "Romney, Mitt   (0, 1]                     77\n",
       "               (1, 10]                  3681\n",
       "               (10, 100]               31853\n",
       "               (100, 1000]             43357\n",
       "               (1000, 10000]           26186\n",
       "               (10000, 100000]             1\n",
       "               (100000, 1000000]           0\n",
       "               (1000000, 10000000]         0\n",
       "dtype: int64"
      ]
     },
     "execution_count": 88,
     "metadata": {},
     "output_type": "execute_result"
    }
   ],
   "source": [
    "grouped = fec_mrbo.groupby(['cand_nm', labels])\n",
    "# cand_nm 을 기준으로 labels 값을 각 cand_nm 에 할당한다.\n",
    "grouped.size()\n",
    "\n",
    "# 보통의 size 는 행의 개수를 세는 메서드지만\n",
    "# 여기서는 groupby 가 되어 있기에 그룹 별 행의 개수를 세는거라고 이해하자."
   ]
  },
  {
   "cell_type": "code",
   "execution_count": 85,
   "metadata": {},
   "outputs": [
    {
     "data": {
      "text/plain": [
       "contb_receipt_amt    cand_nm      \n",
       "(0, 1]               Obama, Barack       493\n",
       "                     Romney, Mitt         77\n",
       "(1, 10]              Obama, Barack     40070\n",
       "                     Romney, Mitt       3681\n",
       "(10, 100]            Obama, Barack    372280\n",
       "                     Romney, Mitt      31853\n",
       "(100, 1000]          Obama, Barack    153991\n",
       "                     Romney, Mitt      43357\n",
       "(1000, 10000]        Obama, Barack     22284\n",
       "                     Romney, Mitt      26186\n",
       "(10000, 100000]      Obama, Barack         2\n",
       "                     Romney, Mitt          1\n",
       "(100000, 1000000]    Obama, Barack         3\n",
       "                     Romney, Mitt          0\n",
       "(1000000, 10000000]  Obama, Barack         4\n",
       "                     Romney, Mitt          0\n",
       "dtype: int64"
      ]
     },
     "execution_count": 85,
     "metadata": {},
     "output_type": "execute_result"
    }
   ],
   "source": [
    "grouped = fec_mrbo.groupby([labels, 'cand_nm'])\n",
    "# labels 를 기준으로 cand_nm 값을 넣는다.\n",
    "grouped.size()"
   ]
  },
  {
   "cell_type": "code",
   "execution_count": 89,
   "metadata": {},
   "outputs": [
    {
     "data": {
      "text/html": [
       "<div>\n",
       "<style scoped>\n",
       "    .dataframe tbody tr th:only-of-type {\n",
       "        vertical-align: middle;\n",
       "    }\n",
       "\n",
       "    .dataframe tbody tr th {\n",
       "        vertical-align: top;\n",
       "    }\n",
       "\n",
       "    .dataframe thead th {\n",
       "        text-align: right;\n",
       "    }\n",
       "</style>\n",
       "<table border=\"1\" class=\"dataframe\">\n",
       "  <thead>\n",
       "    <tr style=\"text-align: right;\">\n",
       "      <th>cand_nm</th>\n",
       "      <th>Obama, Barack</th>\n",
       "      <th>Romney, Mitt</th>\n",
       "    </tr>\n",
       "    <tr>\n",
       "      <th>contb_receipt_amt</th>\n",
       "      <th></th>\n",
       "      <th></th>\n",
       "    </tr>\n",
       "  </thead>\n",
       "  <tbody>\n",
       "    <tr>\n",
       "      <th>(0, 1]</th>\n",
       "      <td>493</td>\n",
       "      <td>77</td>\n",
       "    </tr>\n",
       "    <tr>\n",
       "      <th>(1, 10]</th>\n",
       "      <td>40070</td>\n",
       "      <td>3681</td>\n",
       "    </tr>\n",
       "    <tr>\n",
       "      <th>(10, 100]</th>\n",
       "      <td>372280</td>\n",
       "      <td>31853</td>\n",
       "    </tr>\n",
       "    <tr>\n",
       "      <th>(100, 1000]</th>\n",
       "      <td>153991</td>\n",
       "      <td>43357</td>\n",
       "    </tr>\n",
       "    <tr>\n",
       "      <th>(1000, 10000]</th>\n",
       "      <td>22284</td>\n",
       "      <td>26186</td>\n",
       "    </tr>\n",
       "    <tr>\n",
       "      <th>(10000, 100000]</th>\n",
       "      <td>2</td>\n",
       "      <td>1</td>\n",
       "    </tr>\n",
       "    <tr>\n",
       "      <th>(100000, 1000000]</th>\n",
       "      <td>3</td>\n",
       "      <td>0</td>\n",
       "    </tr>\n",
       "    <tr>\n",
       "      <th>(1000000, 10000000]</th>\n",
       "      <td>4</td>\n",
       "      <td>0</td>\n",
       "    </tr>\n",
       "  </tbody>\n",
       "</table>\n",
       "</div>"
      ],
      "text/plain": [
       "cand_nm              Obama, Barack  Romney, Mitt\n",
       "contb_receipt_amt                               \n",
       "(0, 1]                         493            77\n",
       "(1, 10]                      40070          3681\n",
       "(10, 100]                   372280         31853\n",
       "(100, 1000]                 153991         43357\n",
       "(1000, 10000]                22284         26186\n",
       "(10000, 100000]                  2             1\n",
       "(100000, 1000000]                3             0\n",
       "(1000000, 10000000]              4             0"
      ]
     },
     "execution_count": 89,
     "metadata": {},
     "output_type": "execute_result"
    }
   ],
   "source": [
    "grouped = fec_mrbo.groupby(['cand_nm', labels])\n",
    "grouped.size().unstack(0)\n",
    "# 열과 행을 바꿔준다."
   ]
  },
  {
   "cell_type": "code",
   "execution_count": 50,
   "metadata": {},
   "outputs": [],
   "source": [
    "#  이 데이터를 보면 오바마는 롬니보다 적은 금액의 기부를 훨씬 많이 받았다.\n",
    "# 기부금액을 모두 더한 후 버킷별로 정규화해서 후보별 전체 기부금액 대비 비율을\n",
    "# 시각화할 수 있다."
   ]
  },
  {
   "cell_type": "code",
   "execution_count": 99,
   "metadata": {},
   "outputs": [
    {
     "name": "stdout",
     "output_type": "stream",
     "text": [
      "cand_nm              Obama, Barack  Romney, Mitt\n",
      "contb_receipt_amt                               \n",
      "(0, 1]                      318.24         77.00\n",
      "(1, 10]                  337267.62      29819.66\n",
      "(10, 100]              20288981.41    1987783.76\n",
      "(100, 1000]            54798531.46   22363381.69\n",
      "(1000, 10000]          51753705.67   63942145.42\n",
      "(10000, 100000]           59100.00      12700.00\n",
      "(100000, 1000000]       1490683.08           NaN\n",
      "(1000000, 10000000]     7148839.76           NaN\n"
     ]
    },
    {
     "data": {
      "text/html": [
       "<div>\n",
       "<style scoped>\n",
       "    .dataframe tbody tr th:only-of-type {\n",
       "        vertical-align: middle;\n",
       "    }\n",
       "\n",
       "    .dataframe tbody tr th {\n",
       "        vertical-align: top;\n",
       "    }\n",
       "\n",
       "    .dataframe thead th {\n",
       "        text-align: right;\n",
       "    }\n",
       "</style>\n",
       "<table border=\"1\" class=\"dataframe\">\n",
       "  <thead>\n",
       "    <tr style=\"text-align: right;\">\n",
       "      <th>cand_nm</th>\n",
       "      <th>Obama, Barack</th>\n",
       "      <th>Romney, Mitt</th>\n",
       "    </tr>\n",
       "    <tr>\n",
       "      <th>contb_receipt_amt</th>\n",
       "      <th></th>\n",
       "      <th></th>\n",
       "    </tr>\n",
       "  </thead>\n",
       "  <tbody>\n",
       "    <tr>\n",
       "      <th>(0, 1]</th>\n",
       "      <td>0.805182</td>\n",
       "      <td>0.194818</td>\n",
       "    </tr>\n",
       "    <tr>\n",
       "      <th>(1, 10]</th>\n",
       "      <td>0.918767</td>\n",
       "      <td>0.081233</td>\n",
       "    </tr>\n",
       "    <tr>\n",
       "      <th>(10, 100]</th>\n",
       "      <td>0.910769</td>\n",
       "      <td>0.089231</td>\n",
       "    </tr>\n",
       "    <tr>\n",
       "      <th>(100, 1000]</th>\n",
       "      <td>0.710176</td>\n",
       "      <td>0.289824</td>\n",
       "    </tr>\n",
       "    <tr>\n",
       "      <th>(1000, 10000]</th>\n",
       "      <td>0.447326</td>\n",
       "      <td>0.552674</td>\n",
       "    </tr>\n",
       "    <tr>\n",
       "      <th>(10000, 100000]</th>\n",
       "      <td>0.823120</td>\n",
       "      <td>0.176880</td>\n",
       "    </tr>\n",
       "    <tr>\n",
       "      <th>(100000, 1000000]</th>\n",
       "      <td>1.000000</td>\n",
       "      <td>NaN</td>\n",
       "    </tr>\n",
       "    <tr>\n",
       "      <th>(1000000, 10000000]</th>\n",
       "      <td>1.000000</td>\n",
       "      <td>NaN</td>\n",
       "    </tr>\n",
       "  </tbody>\n",
       "</table>\n",
       "</div>"
      ],
      "text/plain": [
       "cand_nm              Obama, Barack  Romney, Mitt\n",
       "contb_receipt_amt                               \n",
       "(0, 1]                    0.805182      0.194818\n",
       "(1, 10]                   0.918767      0.081233\n",
       "(10, 100]                 0.910769      0.089231\n",
       "(100, 1000]               0.710176      0.289824\n",
       "(1000, 10000]             0.447326      0.552674\n",
       "(10000, 100000]           0.823120      0.176880\n",
       "(100000, 1000000]         1.000000           NaN\n",
       "(1000000, 10000000]       1.000000           NaN"
      ]
     },
     "execution_count": 99,
     "metadata": {},
     "output_type": "execute_result"
    }
   ],
   "source": [
    "bucket_sums = grouped.contb_receipt_amt.sum().unstack(0)\n",
    "print(bucket_sums)\n",
    "normed_sums = bucket_sums.div(bucket_sums.sum(axis=1), axis=0)\n",
    "# 각 행을 1로 잡고, 해당 행의 비율을 구한다.\n",
    "# sum(axis=1) 행 합을 구한다.\n",
    "\n",
    "normed_sums"
   ]
  },
  {
   "cell_type": "code",
   "execution_count": 52,
   "metadata": {},
   "outputs": [
    {
     "data": {
      "text/plain": [
       "<matplotlib.axes._subplots.AxesSubplot at 0x24c503e2348>"
      ]
     },
     "execution_count": 52,
     "metadata": {},
     "output_type": "execute_result"
    },
    {
     "data": {
      "image/png": "[encoded data removed]",
      "text/plain": [
       "<Figure size 864x720 with 1 Axes>"
      ]
     },
     "metadata": {
      "needs_background": "light"
     },
     "output_type": "display_data"
    }
   ],
   "source": [
    "# 후보별 전체 기부금액 대비 비율\n",
    "\n",
    "normed_sums[:-2].plot(kind='barh', figsize=(12,10))"
   ]
  },
  {
   "cell_type": "code",
   "execution_count": 53,
   "metadata": {},
   "outputs": [],
   "source": [
    "# 기부금액 순에서 가장 큰 2개의 버킷은 개인 후원이 아니므로 그래프에서 제외시켰다.\n",
    "\n",
    "# 물론 지금 살펴본 부넉은 좀 더 개량할 수 있다. 예를 들어 기부자의 이름과 우편번호를\n",
    "# 이용해서 적은 금액을 자주 기부한 사람과 큰 금액을 기부한 사람별로 데이터를 \n",
    "# 집계할 수도 있을 것이다. 나는 독자들이 이 데이트를 내려받아 직접 살펴보길 강력권장한다."
   ]
  },
  {
   "cell_type": "code",
   "execution_count": 54,
   "metadata": {},
   "outputs": [],
   "source": [
    "# 주별 기부 통계\n",
    "\n",
    "# 데이터를 후보자와 주별로 집계하는 것은 흔할 일이다."
   ]
  },
  {
   "cell_type": "code",
   "execution_count": 55,
   "metadata": {},
   "outputs": [
    {
     "data": {
      "text/html": [
       "<div>\n",
       "<style scoped>\n",
       "    .dataframe tbody tr th:only-of-type {\n",
       "        vertical-align: middle;\n",
       "    }\n",
       "\n",
       "    .dataframe tbody tr th {\n",
       "        vertical-align: top;\n",
       "    }\n",
       "\n",
       "    .dataframe thead th {\n",
       "        text-align: right;\n",
       "    }\n",
       "</style>\n",
       "<table border=\"1\" class=\"dataframe\">\n",
       "  <thead>\n",
       "    <tr style=\"text-align: right;\">\n",
       "      <th>cand_nm</th>\n",
       "      <th>Obama, Barack</th>\n",
       "      <th>Romney, Mitt</th>\n",
       "    </tr>\n",
       "    <tr>\n",
       "      <th>contbr_st</th>\n",
       "      <th></th>\n",
       "      <th></th>\n",
       "    </tr>\n",
       "  </thead>\n",
       "  <tbody>\n",
       "    <tr>\n",
       "      <th>AK</th>\n",
       "      <td>281840.15</td>\n",
       "      <td>86204.24</td>\n",
       "    </tr>\n",
       "    <tr>\n",
       "      <th>AL</th>\n",
       "      <td>543123.48</td>\n",
       "      <td>527303.51</td>\n",
       "    </tr>\n",
       "    <tr>\n",
       "      <th>AR</th>\n",
       "      <td>359247.28</td>\n",
       "      <td>105556.00</td>\n",
       "    </tr>\n",
       "    <tr>\n",
       "      <th>AZ</th>\n",
       "      <td>1506476.98</td>\n",
       "      <td>1888436.23</td>\n",
       "    </tr>\n",
       "    <tr>\n",
       "      <th>CA</th>\n",
       "      <td>23824984.24</td>\n",
       "      <td>11237636.60</td>\n",
       "    </tr>\n",
       "    <tr>\n",
       "      <th>CO</th>\n",
       "      <td>2132429.49</td>\n",
       "      <td>1506714.12</td>\n",
       "    </tr>\n",
       "    <tr>\n",
       "      <th>CT</th>\n",
       "      <td>2068291.26</td>\n",
       "      <td>3499475.45</td>\n",
       "    </tr>\n",
       "    <tr>\n",
       "      <th>DC</th>\n",
       "      <td>4373538.80</td>\n",
       "      <td>1025137.50</td>\n",
       "    </tr>\n",
       "    <tr>\n",
       "      <th>DE</th>\n",
       "      <td>336669.14</td>\n",
       "      <td>82712.00</td>\n",
       "    </tr>\n",
       "    <tr>\n",
       "      <th>FL</th>\n",
       "      <td>7318178.58</td>\n",
       "      <td>8338458.81</td>\n",
       "    </tr>\n",
       "  </tbody>\n",
       "</table>\n",
       "</div>"
      ],
      "text/plain": [
       "cand_nm    Obama, Barack  Romney, Mitt\n",
       "contbr_st                             \n",
       "AK             281840.15      86204.24\n",
       "AL             543123.48     527303.51\n",
       "AR             359247.28     105556.00\n",
       "AZ            1506476.98    1888436.23\n",
       "CA           23824984.24   11237636.60\n",
       "CO            2132429.49    1506714.12\n",
       "CT            2068291.26    3499475.45\n",
       "DC            4373538.80    1025137.50\n",
       "DE             336669.14      82712.00\n",
       "FL            7318178.58    8338458.81"
      ]
     },
     "execution_count": 55,
     "metadata": {},
     "output_type": "execute_result"
    }
   ],
   "source": [
    "grouped = fec_mrbo.groupby(['cand_nm', 'contbr_st'])\n",
    "totals = grouped.contb_receipt_amt.sum().unstack(0).fillna(0)\n",
    "totals = totals[totals.sum(1) > 100000]\n",
    "totals[:10]"
   ]
  },
  {
   "cell_type": "code",
   "execution_count": 56,
   "metadata": {},
   "outputs": [],
   "source": [
    "# 각 로우의 전체 기부금액으로 나누면 각 후보에 대한 주별 전체 기부금액의 \n",
    "# 상대적인 비율을 얻을 수 있다."
   ]
  },
  {
   "cell_type": "code",
   "execution_count": 57,
   "metadata": {},
   "outputs": [
    {
     "data": {
      "text/html": [
       "<div>\n",
       "<style scoped>\n",
       "    .dataframe tbody tr th:only-of-type {\n",
       "        vertical-align: middle;\n",
       "    }\n",
       "\n",
       "    .dataframe tbody tr th {\n",
       "        vertical-align: top;\n",
       "    }\n",
       "\n",
       "    .dataframe thead th {\n",
       "        text-align: right;\n",
       "    }\n",
       "</style>\n",
       "<table border=\"1\" class=\"dataframe\">\n",
       "  <thead>\n",
       "    <tr style=\"text-align: right;\">\n",
       "      <th>cand_nm</th>\n",
       "      <th>Obama, Barack</th>\n",
       "      <th>Romney, Mitt</th>\n",
       "    </tr>\n",
       "    <tr>\n",
       "      <th>contbr_st</th>\n",
       "      <th></th>\n",
       "      <th></th>\n",
       "    </tr>\n",
       "  </thead>\n",
       "  <tbody>\n",
       "    <tr>\n",
       "      <th>AK</th>\n",
       "      <td>0.765778</td>\n",
       "      <td>0.234222</td>\n",
       "    </tr>\n",
       "    <tr>\n",
       "      <th>AL</th>\n",
       "      <td>0.507390</td>\n",
       "      <td>0.492610</td>\n",
       "    </tr>\n",
       "    <tr>\n",
       "      <th>AR</th>\n",
       "      <td>0.772902</td>\n",
       "      <td>0.227098</td>\n",
       "    </tr>\n",
       "    <tr>\n",
       "      <th>AZ</th>\n",
       "      <td>0.443745</td>\n",
       "      <td>0.556255</td>\n",
       "    </tr>\n",
       "    <tr>\n",
       "      <th>CA</th>\n",
       "      <td>0.679498</td>\n",
       "      <td>0.320502</td>\n",
       "    </tr>\n",
       "    <tr>\n",
       "      <th>CO</th>\n",
       "      <td>0.585970</td>\n",
       "      <td>0.414030</td>\n",
       "    </tr>\n",
       "    <tr>\n",
       "      <th>CT</th>\n",
       "      <td>0.371476</td>\n",
       "      <td>0.628524</td>\n",
       "    </tr>\n",
       "    <tr>\n",
       "      <th>DC</th>\n",
       "      <td>0.810113</td>\n",
       "      <td>0.189887</td>\n",
       "    </tr>\n",
       "    <tr>\n",
       "      <th>DE</th>\n",
       "      <td>0.802776</td>\n",
       "      <td>0.197224</td>\n",
       "    </tr>\n",
       "    <tr>\n",
       "      <th>FL</th>\n",
       "      <td>0.467417</td>\n",
       "      <td>0.532583</td>\n",
       "    </tr>\n",
       "  </tbody>\n",
       "</table>\n",
       "</div>"
      ],
      "text/plain": [
       "cand_nm    Obama, Barack  Romney, Mitt\n",
       "contbr_st                             \n",
       "AK              0.765778      0.234222\n",
       "AL              0.507390      0.492610\n",
       "AR              0.772902      0.227098\n",
       "AZ              0.443745      0.556255\n",
       "CA              0.679498      0.320502\n",
       "CO              0.585970      0.414030\n",
       "CT              0.371476      0.628524\n",
       "DC              0.810113      0.189887\n",
       "DE              0.802776      0.197224\n",
       "FL              0.467417      0.532583"
      ]
     },
     "execution_count": 57,
     "metadata": {},
     "output_type": "execute_result"
    }
   ],
   "source": [
    "percent = totals.div(totals.sum(1), axis=0)\n",
    "percent[:10]"
   ]
  },
  {
   "cell_type": "code",
   "execution_count": null,
   "metadata": {},
   "outputs": [],
   "source": []
  }
 ],
 "metadata": {
  "kernelspec": {
   "display_name": "Python 3",
   "language": "python",
   "name": "python3"
  },
  "language_info": {
   "codemirror_mode": {
    "name": "ipython",
    "version": 3
   },
   "file_extension": ".py",
   "mimetype": "text/x-python",
   "name": "python",
   "nbconvert_exporter": "python",
   "pygments_lexer": "ipython3",
   "version": "3.7.6"
  }
 },
 "nbformat": 4,
 "nbformat_minor": 4
}
